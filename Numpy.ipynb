{
  "nbformat": 4,
  "nbformat_minor": 0,
  "metadata": {
    "colab": {
      "provenance": [],
      "include_colab_link": true
    },
    "kernelspec": {
      "name": "python3",
      "display_name": "Python 3"
    },
    "language_info": {
      "name": "python"
    }
  },
  "cells": [
    {
      "cell_type": "markdown",
      "metadata": {
        "id": "view-in-github",
        "colab_type": "text"
      },
      "source": [
        "<a href=\"https://colab.research.google.com/github/Franciscopd15/NumPy_FJPD/blob/main/Numpy.ipynb\" target=\"_parent\"><img src=\"https://colab.research.google.com/assets/colab-badge.svg\" alt=\"Open In Colab\"/></a>"
      ]
    },
    {
      "cell_type": "markdown",
      "source": [
        "# **Numpy: Análisis numérico eficiente con Python**"
      ],
      "metadata": {
        "id": "gIKzRrVXl_U4"
      }
    },
    {
      "cell_type": "code",
      "source": [
        "import numpy as np"
      ],
      "metadata": {
        "id": "aS1ry2oIWkI8"
      },
      "execution_count": 1,
      "outputs": []
    },
    {
      "cell_type": "code",
      "source": [
        "# Metodo 1 para cargar datos\n",
        "# url = 'https://gist.githubusercontent.com/ahcamachod/41b8a65c5e5b58125401deafb68af460/raw/f84320f69efa1cc3e86e1db054422cfa4869c63e/manzanas.csv'"
      ],
      "metadata": {
        "id": "zZeAiv-7wYfI"
      },
      "execution_count": 6,
      "outputs": []
    },
    {
      "cell_type": "code",
      "source": [
        "# 87 meses\n",
        "# np.arange(1,88,1)"
      ],
      "metadata": {
        "id": "Zj4lwcsDB-tG"
      },
      "execution_count": null,
      "outputs": []
    },
    {
      "cell_type": "code",
      "source": [
        "# np.loadtxt(url, delimiter=',',usecols = np.arange(1,88,1))"
      ],
      "metadata": {
        "id": "5LqPLNceCSQy"
      },
      "execution_count": null,
      "outputs": []
    },
    {
      "cell_type": "code",
      "source": [
        "# Método 2\n",
        "from google.colab import drive\n",
        "drive.mount('/content/drive')"
      ],
      "metadata": {
        "id": "5hrdweggC54K"
      },
      "execution_count": null,
      "outputs": []
    },
    {
      "cell_type": "code",
      "source": [
        "path = '/content/drive/MyDrive/manzanas.csv'\n",
        "\n",
        "datos = np.loadtxt(path, delimiter=',',usecols = np.arange(1,88,1))"
      ],
      "metadata": {
        "id": "qh7GbAKlDSHX"
      },
      "execution_count": 13,
      "outputs": []
    },
    {
      "cell_type": "code",
      "source": [
        "datos.ndim"
      ],
      "metadata": {
        "id": "U8i0_85dFIx7",
        "outputId": "114927b3-118e-4161-960a-65be973b27ce",
        "colab": {
          "base_uri": "https://localhost:8080/"
        }
      },
      "execution_count": 15,
      "outputs": [
        {
          "output_type": "execute_result",
          "data": {
            "text/plain": [
              "2"
            ]
          },
          "metadata": {},
          "execution_count": 15
        }
      ]
    },
    {
      "cell_type": "code",
      "source": [
        "datos.shape"
      ],
      "metadata": {
        "id": "-dFwNe0CFNgL",
        "outputId": "4e2f7cd6-98e1-4b2a-8ed7-c3a87cfa98d1",
        "colab": {
          "base_uri": "https://localhost:8080/"
        }
      },
      "execution_count": 16,
      "outputs": [
        {
          "output_type": "execute_result",
          "data": {
            "text/plain": [
              "(6, 87)"
            ]
          },
          "metadata": {},
          "execution_count": 16
        }
      ]
    },
    {
      "cell_type": "code",
      "source": [
        "datos_transpuestos = datos.T"
      ],
      "metadata": {
        "id": "oozAM0bHFbQ2"
      },
      "execution_count": 18,
      "outputs": []
    },
    {
      "cell_type": "code",
      "source": [
        "fechas = datos_transpuestos[:,0]\n",
        "fechas"
      ],
      "metadata": {
        "id": "tD1YYHVrJaoL"
      },
      "execution_count": null,
      "outputs": []
    },
    {
      "cell_type": "code",
      "source": [
        "precios = datos_transpuestos[:,1:]\n",
        "precios"
      ],
      "metadata": {
        "id": "1MRvlOIVJgKL"
      },
      "execution_count": null,
      "outputs": []
    },
    {
      "cell_type": "code",
      "source": [
        "import matplotlib.pyplot as plt\n",
        "\n",
        "plt.plot(fechas,precios)\n",
        "plt.show()"
      ],
      "metadata": {
        "id": "bBbyZjKSJzcY"
      },
      "execution_count": null,
      "outputs": []
    },
    {
      "cell_type": "code",
      "source": [
        "plt.plot(fechas,precios[:,0])"
      ],
      "metadata": {
        "id": "fml-zFowKL-e"
      },
      "execution_count": null,
      "outputs": []
    },
    {
      "cell_type": "code",
      "source": [
        "fechas = np.arange(1,88,1)"
      ],
      "metadata": {
        "id": "Bw7F2UvYKSoZ"
      },
      "execution_count": 24,
      "outputs": []
    },
    {
      "cell_type": "code",
      "source": [
        "plt.plot(fechas,precios[:,0])"
      ],
      "metadata": {
        "id": "Dg0BpKiKKa09"
      },
      "execution_count": null,
      "outputs": []
    },
    {
      "cell_type": "code",
      "source": [
        "moscu = precios[:,0]\n",
        "kaliningrado = precios[:,1]\n",
        "petesburgo = precios[:,2]\n",
        "krasnodar = precios[:,3]\n",
        "ekaterimburgos = precios[:,4]"
      ],
      "metadata": {
        "id": "vYbdrAUzKlQG"
      },
      "execution_count": 26,
      "outputs": []
    },
    {
      "cell_type": "code",
      "source": [
        "plt.plot(fechas,kaliningrado)\n",
        "plt.show()"
      ],
      "metadata": {
        "id": "NWxhgUQtKxGr"
      },
      "execution_count": null,
      "outputs": []
    },
    {
      "cell_type": "code",
      "source": [
        "moscu_1 = moscu[0:12]\n",
        "moscu_2 = moscu[12:24]\n",
        "moscu_3 = moscu[24:36]\n",
        "moscu_4 = moscu[36:48]"
      ],
      "metadata": {
        "id": "vEQz143iMbJO"
      },
      "execution_count": 28,
      "outputs": []
    },
    {
      "cell_type": "code",
      "source": [
        "plt.plot(np.arange(1,13,1),moscu_1)\n",
        "plt.plot(np.arange(1,13,1),moscu_2)\n",
        "plt.plot(np.arange(1,13,1),moscu_3)\n",
        "plt.plot(np.arange(1,13,1),moscu_4)\n",
        "plt.legend(['2013', '2014', '2015', '2016'])\n",
        "plt.show()"
      ],
      "metadata": {
        "id": "rk-ouDrcMlqF",
        "outputId": "2401374c-a332-4b62-9937-c2eaef74ef80",
        "colab": {
          "base_uri": "https://localhost:8080/",
          "height": 430
        }
      },
      "execution_count": 30,
      "outputs": [
        {
          "output_type": "display_data",
          "data": {
            "text/plain": [
              "<Figure size 640x480 with 1 Axes>"
            ],
            "image/png": "[encoded data removed]"
          },
          "metadata": {}
        }
      ]
    },
    {
      "cell_type": "code",
      "source": [
        "np.mean(moscu)"
      ],
      "metadata": {
        "id": "jGCeLqWrNrGo",
        "outputId": "b734a0df-2ed1-4e34-9245-4c8236627022",
        "colab": {
          "base_uri": "https://localhost:8080/"
        }
      },
      "execution_count": 31,
      "outputs": [
        {
          "output_type": "execute_result",
          "data": {
            "text/plain": [
              "np.float64(98.79781609195402)"
            ]
          },
          "metadata": {},
          "execution_count": 31
        }
      ]
    },
    {
      "cell_type": "code",
      "source": [
        "np.mean(kaliningrado)"
      ],
      "metadata": {
        "id": "fnNU7LlANyc6",
        "outputId": "dc0ca1b6-fdf7-48f8-f6bc-ef6a5e29adf4",
        "colab": {
          "base_uri": "https://localhost:8080/"
        }
      },
      "execution_count": 33,
      "outputs": [
        {
          "output_type": "execute_result",
          "data": {
            "text/plain": [
              "np.float64(nan)"
            ]
          },
          "metadata": {},
          "execution_count": 33
        }
      ]
    },
    {
      "cell_type": "code",
      "source": [
        "#Permite visualizar si hay valores NaN\n",
        "np.isnan(kaliningrado)"
      ],
      "metadata": {
        "id": "rLAjdhXpN4Ot"
      },
      "execution_count": null,
      "outputs": []
    },
    {
      "cell_type": "code",
      "source": [
        "#Permite sumar los booleanos de True o False, si hay un NaN que es True, dará 1\n",
        "np.sum(np.isnan(kaliningrado))"
      ],
      "metadata": {
        "id": "iRIP9I4GOAZ1"
      },
      "execution_count": null,
      "outputs": []
    },
    {
      "cell_type": "code",
      "source": [
        "#Interpolamos para darle un valor nuevo al campo donde está NaN\n",
        "kaliningrado[4] = (kaliningrado[3]+kaliningrado[5])/2"
      ],
      "metadata": {
        "id": "QawFsjm1OZrP"
      },
      "execution_count": 36,
      "outputs": []
    },
    {
      "cell_type": "code",
      "source": [
        "# Como ya no hay NaN, el valor será 0 al tener solo falsos\n",
        "np.sum(np.isnan(kaliningrado))"
      ],
      "metadata": {
        "id": "9EZS-ABMOfX-"
      },
      "execution_count": null,
      "outputs": []
    },
    {
      "cell_type": "code",
      "source": [
        "np.mean(kaliningrado)"
      ],
      "metadata": {
        "id": "hcoNw1rLOzf4",
        "outputId": "eeac55bc-0a6c-4672-a510-13dbfe6852d0",
        "colab": {
          "base_uri": "https://localhost:8080/"
        }
      },
      "execution_count": 38,
      "outputs": [
        {
          "output_type": "execute_result",
          "data": {
            "text/plain": [
              "np.float64(74.5506896551724)"
            ]
          },
          "metadata": {},
          "execution_count": 38
        }
      ]
    },
    {
      "cell_type": "markdown",
      "source": [
        "### **y = ax + b**"
      ],
      "metadata": {
        "id": "wKCuXfbpS8sk"
      }
    },
    {
      "cell_type": "code",
      "source": [
        "x = fechas\n",
        "y = 0.5*x + 80"
      ],
      "metadata": {
        "id": "Xu_-Hz1YTBqC"
      },
      "execution_count": 58,
      "outputs": []
    },
    {
      "cell_type": "code",
      "source": [
        "np.sum(np.power(moscu - y,2))"
      ],
      "metadata": {
        "id": "GMZpA0VOTMKh"
      },
      "execution_count": null,
      "outputs": []
    },
    {
      "cell_type": "code",
      "source": [
        "np.sqrt(np.sum(np.power(moscu - y,2)))"
      ],
      "metadata": {
        "id": "deGpdunMTSFs"
      },
      "execution_count": null,
      "outputs": []
    },
    {
      "cell_type": "code",
      "source": [
        "#Linealizar una diferencia de arrays\n",
        "np.linalg.norm(moscu - y)"
      ],
      "metadata": {
        "id": "GcpcFTdcTqwr"
      },
      "execution_count": null,
      "outputs": []
    },
    {
      "cell_type": "markdown",
      "source": [
        "#### Análisis de Regresión Lineal"
      ],
      "metadata": {
        "id": "GA0jbhtrWlaH"
      }
    },
    {
      "cell_type": "code",
      "source": [
        "y = moscu\n",
        "x = fechas\n",
        "n = np.size(moscu)"
      ],
      "metadata": {
        "id": "3gN_zWT2WGHG"
      },
      "execution_count": 46,
      "outputs": []
    },
    {
      "cell_type": "markdown",
      "source": [
        "![image.png](data:image/png;base64,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)"
      ],
      "metadata": {
        "id": "7gc0mgF4WWan"
      }
    },
    {
      "cell_type": "code",
      "source": [
        "a = ((n*np.sum(x*y))-(np.sum(x)*np.sum(y)))/((n*np.sum(x**2))-np.sum(x)**2)"
      ],
      "metadata": {
        "id": "uGo3SC7hWdGq"
      },
      "execution_count": 48,
      "outputs": []
    },
    {
      "cell_type": "markdown",
      "source": [
        "![image.png](data:image/png;base64,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)"
      ],
      "metadata": {
        "id": "BbaE0fuqWhO0"
      }
    },
    {
      "cell_type": "code",
      "source": [
        "b = (np.sum(y)-a*np.sum(x))/n"
      ],
      "metadata": {
        "id": "m-PXGEFMWiDI"
      },
      "execution_count": 49,
      "outputs": []
    },
    {
      "cell_type": "code",
      "source": [
        "print(f'La pendientes es {a}\\nLa intersección es {b}')"
      ],
      "metadata": {
        "id": "cKBhOAt2Xbbm"
      },
      "execution_count": null,
      "outputs": []
    },
    {
      "cell_type": "code",
      "source": [
        "y = a*x + b"
      ],
      "metadata": {
        "id": "iySnnVy8XiO4"
      },
      "execution_count": 51,
      "outputs": []
    },
    {
      "cell_type": "code",
      "source": [
        "np.linalg.norm(moscu - y)"
      ],
      "metadata": {
        "id": "RcBcgNHUXlCO"
      },
      "execution_count": null,
      "outputs": []
    },
    {
      "cell_type": "markdown",
      "source": [
        "### Valores aleatorios"
      ],
      "metadata": {
        "id": "mKXm_tFsjw3k"
      }
    },
    {
      "cell_type": "code",
      "source": [
        "# Entero\n",
        "np.random.randint(0,10,100)"
      ],
      "metadata": {
        "id": "caEsHoCyj3P7"
      },
      "execution_count": null,
      "outputs": []
    },
    {
      "cell_type": "code",
      "source": [
        "# Decimal\n",
        "np.random.uniform(0.1,0.9,100)"
      ],
      "metadata": {
        "id": "ThuRHPSKkD0t"
      },
      "execution_count": null,
      "outputs": []
    },
    {
      "cell_type": "code",
      "source": [
        "pendientes = np.random.uniform(0.1,0.9,100)"
      ],
      "metadata": {
        "id": "jsfRFKu0kifJ"
      },
      "execution_count": 56,
      "outputs": []
    },
    {
      "cell_type": "code",
      "source": [
        "for i in range(100):\n",
        "  print(np.linalg.norm(moscu - (pendientes[i]*x + b)))"
      ],
      "metadata": {
        "id": "i_xdDKQNksMW"
      },
      "execution_count": null,
      "outputs": []
    },
    {
      "cell_type": "code",
      "source": [
        "norma = np.array([])\n",
        "\n",
        "for i in range(100):\n",
        "  norma = np.append(norma, np.linalg.norm(moscu - (pendientes[i]*x + b)))"
      ],
      "metadata": {
        "id": "l6PUcvuElDP4"
      },
      "execution_count": 60,
      "outputs": []
    },
    {
      "cell_type": "code",
      "source": [
        "norma"
      ],
      "metadata": {
        "id": "U1sjZyyYlRKY"
      },
      "execution_count": null,
      "outputs": []
    },
    {
      "cell_type": "code",
      "source": [
        "np.random.seed(99)\n",
        "pendientes = np.random.uniform(0.1,0.9,100)"
      ],
      "metadata": {
        "id": "qCT47bMPmBgq"
      },
      "execution_count": 81,
      "outputs": []
    },
    {
      "cell_type": "code",
      "source": [
        "norma = np.array([])\n",
        "\n",
        "for i in range(100):\n",
        "  norma = np.append(norma, np.linalg.norm(moscu - (pendientes[i]*x + b)))\n",
        "\n",
        "norma"
      ],
      "metadata": {
        "id": "yBOE9_ScmaNK"
      },
      "execution_count": null,
      "outputs": []
    },
    {
      "cell_type": "markdown",
      "source": [
        "### Exportando Archivos generados"
      ],
      "metadata": {
        "id": "dHLKspSWnfPw"
      }
    },
    {
      "cell_type": "code",
      "source": [
        "pendientes"
      ],
      "metadata": {
        "id": "okVQUhmZnhqR"
      },
      "execution_count": null,
      "outputs": []
    },
    {
      "cell_type": "code",
      "source": [
        "norma"
      ],
      "metadata": {
        "id": "yn3RuuG9nk9b"
      },
      "execution_count": null,
      "outputs": []
    },
    {
      "cell_type": "code",
      "source": [
        "datos = np.column_stack([norma,pendientes])\n",
        "datos\n",
        "\n",
        "datos.shape"
      ],
      "metadata": {
        "id": "VmNktCdsnm71"
      },
      "execution_count": null,
      "outputs": []
    },
    {
      "cell_type": "code",
      "source": [
        "np.savetxt('/content/drive/MyDrive/NumPy/norma_y_pendientes.csv', datos, delimiter=',')"
      ],
      "metadata": {
        "id": "EMporqN7nzv8"
      },
      "execution_count": 86,
      "outputs": []
    },
    {
      "cell_type": "code",
      "source": [
        "x = [0,1,2,3,4,5,6,7,8,9,10]\n",
        "y = []\n",
        "\n",
        "for i in x:\n",
        "  y.append(i + 3 / 2)\n",
        "\n",
        "print(y)"
      ],
      "metadata": {
        "id": "BDVlWjLzo7Lw",
        "outputId": "076b9022-199f-4286-f7f1-884d97c8d4ce",
        "colab": {
          "base_uri": "https://localhost:8080/"
        }
      },
      "execution_count": 87,
      "outputs": [
        {
          "output_type": "stream",
          "name": "stdout",
          "text": [
            "[1.5, 2.5, 3.5, 4.5, 5.5, 6.5, 7.5, 8.5, 9.5, 10.5, 11.5]\n"
          ]
        }
      ]
    },
    {
      "cell_type": "code",
      "source": [
        "import numpy as np\n",
        "x = [0,1,2,3,4,5,6,7,8,9,10]\n",
        "x = np.array(x)\n",
        "y = x + 3 / 2\n",
        "\n",
        "print(y)"
      ],
      "metadata": {
        "id": "5cCr99FlpXzq",
        "outputId": "1e84b316-54bf-426e-cd33-8b1a2106d9d2",
        "colab": {
          "base_uri": "https://localhost:8080/"
        }
      },
      "execution_count": 88,
      "outputs": [
        {
          "output_type": "stream",
          "name": "stdout",
          "text": [
            "[ 1.5  2.5  3.5  4.5  5.5  6.5  7.5  8.5  9.5 10.5 11.5]\n"
          ]
        }
      ]
    }
  ]
}