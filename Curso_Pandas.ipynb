{
  "nbformat": 4,
  "nbformat_minor": 0,
  "metadata": {
    "colab": {
      "provenance": [],
      "authorship_tag": "ABX9TyM7fQx2z44IOmHXS07+tt4h",
      "include_colab_link": true
    },
    "kernelspec": {
      "name": "python3",
      "display_name": "Python 3"
    },
    "language_info": {
      "name": "python"
    }
  },
  "cells": [
    {
      "cell_type": "markdown",
      "metadata": {
        "id": "view-in-github",
        "colab_type": "text"
      },
      "source": [
        "<a href=\"https://colab.research.google.com/github/Franciscopd15/Bibliotecas_Python_FJPD/blob/main/Curso_Pandas.ipynb\" target=\"_parent\"><img src=\"https://colab.research.google.com/assets/colab-badge.svg\" alt=\"Open In Colab\"/></a>"
      ]
    },
    {
      "cell_type": "markdown",
      "source": [
        "# **Pandas**"
      ],
      "metadata": {
        "id": "HEi9-RO00awZ"
      }
    },
    {
      "cell_type": "markdown",
      "source": [
        "## Importar base de datos"
      ],
      "metadata": {
        "id": "rbJ3zeQK0jz2"
      }
    },
    {
      "cell_type": "code",
      "source": [
        "import pandas as pd\n",
        "\n",
        "url = 'https://gist.githubusercontent.com/ahcamachod/a572cfcc2527046db93101f88011b26e/raw/ffb13f45a79d31223e645611a119397dd127ee3c/alquiler.csv'\n",
        "\n",
        "pd.read_csv(url)"
      ],
      "metadata": {
        "id": "VNEwYZ3e0g0R"
      },
      "execution_count": null,
      "outputs": []
    },
    {
      "cell_type": "code",
      "source": [
        "datos = pd.read_csv(url, sep=';')\n",
        "datos"
      ],
      "metadata": {
        "id": "IXOOTq8700cQ"
      },
      "execution_count": null,
      "outputs": []
    },
    {
      "cell_type": "code",
      "source": [
        "datos.head(10)"
      ],
      "metadata": {
        "id": "dtAKsZHj1PHu"
      },
      "execution_count": null,
      "outputs": []
    },
    {
      "cell_type": "code",
      "source": [
        "datos.tail(10)\n",
        "datos.sample(3)"
      ],
      "metadata": {
        "id": "rC7_sK6V1Ucf"
      },
      "execution_count": null,
      "outputs": []
    },
    {
      "cell_type": "code",
      "source": [
        "type(datos)"
      ],
      "metadata": {
        "id": "R2khyfip1mM2"
      },
      "execution_count": null,
      "outputs": []
    },
    {
      "cell_type": "markdown",
      "source": [
        "## Exploración Inicial de los datos"
      ],
      "metadata": {
        "id": "rB-j6gOT2NxN"
      }
    },
    {
      "cell_type": "code",
      "source": [
        "datos.sample(5)"
      ],
      "metadata": {
        "id": "S5FbWXlc2E-l"
      },
      "execution_count": null,
      "outputs": []
    },
    {
      "cell_type": "code",
      "source": [
        "datos.shape\n",
        "\n",
        "# (Filas, Columnas)"
      ],
      "metadata": {
        "colab": {
          "base_uri": "https://localhost:8080/"
        },
        "id": "IrMX2JYT2UYh",
        "outputId": "bba99787-671b-4009-d66c-857d1392c1bc"
      },
      "execution_count": 15,
      "outputs": [
        {
          "output_type": "execute_result",
          "data": {
            "text/plain": [
              "(25121, 9)"
            ]
          },
          "metadata": {},
          "execution_count": 15
        }
      ]
    },
    {
      "cell_type": "code",
      "source": [
        "datos.columns"
      ],
      "metadata": {
        "colab": {
          "base_uri": "https://localhost:8080/"
        },
        "id": "ziIx0TQP2ojE",
        "outputId": "617a241d-5bc1-4c7d-f7a4-6965dfd372c3"
      },
      "execution_count": 17,
      "outputs": [
        {
          "output_type": "execute_result",
          "data": {
            "text/plain": [
              "Index(['Tipo', 'Colonia', 'Habitaciones', 'Garages', 'Suites', 'Area', 'Valor',\n",
              "       'Condominio', 'Impuesto'],\n",
              "      dtype='object')"
            ]
          },
          "metadata": {},
          "execution_count": 17
        }
      ]
    },
    {
      "cell_type": "code",
      "source": [
        "#Obtener tipos de datos de las columnas\n",
        "datos.info()"
      ],
      "metadata": {
        "colab": {
          "base_uri": "https://localhost:8080/"
        },
        "id": "VThcCPQt2uqQ",
        "outputId": "ebc0c987-d327-44d5-aa00-5e2e254b7099"
      },
      "execution_count": 18,
      "outputs": [
        {
          "output_type": "stream",
          "name": "stdout",
          "text": [
            "<class 'pandas.core.frame.DataFrame'>\n",
            "RangeIndex: 25121 entries, 0 to 25120\n",
            "Data columns (total 9 columns):\n",
            " #   Column        Non-Null Count  Dtype  \n",
            "---  ------        --------------  -----  \n",
            " 0   Tipo          25121 non-null  object \n",
            " 1   Colonia       25121 non-null  object \n",
            " 2   Habitaciones  25121 non-null  int64  \n",
            " 3   Garages       25121 non-null  int64  \n",
            " 4   Suites        25121 non-null  int64  \n",
            " 5   Area          25121 non-null  int64  \n",
            " 6   Valor         25107 non-null  float64\n",
            " 7   Condominio    22495 non-null  float64\n",
            " 8   Impuesto      18037 non-null  float64\n",
            "dtypes: float64(3), int64(4), object(2)\n",
            "memory usage: 1.7+ MB\n"
          ]
        }
      ]
    },
    {
      "cell_type": "code",
      "source": [
        "# ejemplo de serie\n",
        "datos['Tipo']"
      ],
      "metadata": {
        "id": "xzjg27zC26Yf"
      },
      "execution_count": null,
      "outputs": []
    },
    {
      "cell_type": "code",
      "source": [
        "#Ejemplo de Data frame\n",
        "datos[['Habitaciones','Valor']]"
      ],
      "metadata": {
        "id": "UPZTEprZ3H36"
      },
      "execution_count": null,
      "outputs": []
    },
    {
      "cell_type": "code",
      "source": [],
      "metadata": {
        "id": "eYLX86OO3f9a"
      },
      "execution_count": null,
      "outputs": []
    }
  ]
}